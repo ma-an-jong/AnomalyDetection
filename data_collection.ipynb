{
 "cells": [
  {
   "cell_type": "code",
   "execution_count": 3,
   "id": "2a9830d9",
   "metadata": {},
   "outputs": [],
   "source": [
    "import pandas as pd\n",
    "import matplotlib.pyplot as plt\n",
    "import numpy as np\n",
    "%matplotlib inline\n",
    "from tqdm import tqdm\n",
    "from sklearn.decomposition import PCA\n",
    "from sklearn import preprocessing"
   ]
  },
  {
   "cell_type": "code",
   "execution_count": 4,
   "id": "2eb18792",
   "metadata": {},
   "outputs": [],
   "source": [
    "motor_arr= [\n",
    "    '03_08/VIB_0308_motor_51200.csv',\n",
    "    '03_10/VIB_0310_motor_51200.csv',\n",
    "    '03_11/VIB_0311_motor_51200.csv',\n",
    "    '03_14/VIB_0314_motor_51200.csv',\n",
    "    '03_16/VIB_0316_motor_51200.csv',\n",
    "    '03_17/VIB_0317_motor_51200.csv',\n",
    "    '03_21/VIB_0321_motor_51200.csv',\n",
    "    '03_23/VIB_0323_motor_51200.csv',\n",
    "    '03_24/VIB_0324_motor_51200.csv',\n",
    "    '03_28/VIB_0328_motor_51200.csv'\n",
    "]"
   ]
  },
  {
   "cell_type": "code",
   "execution_count": 5,
   "id": "1c7bf8f1",
   "metadata": {},
   "outputs": [],
   "source": [
    "pump_arr= [\n",
    "    '03_08/VIB_0308_pump_51200.csv',\n",
    "    '03_10/VIB_0310_pump_51200.csv',\n",
    "    '03_11/VIB_0311_pump_51200.csv',\n",
    "    '03_14/VIB_0314_pump_51200.csv',\n",
    "    '03_16/VIB_0316_pump_51200.csv',\n",
    "    '03_17/VIB_0317_pump_51200.csv',\n",
    "    '03_21/VIB_0321_pump_51200.csv',\n",
    "    '03_23/VIB_0323_pump_51200.csv',\n",
    "    '03_24/VIB_0324_pump_51200.csv',\n",
    "    '03_28/VIB_0328_pump_51200.csv'\n",
    "]"
   ]
  },
  {
   "cell_type": "code",
   "execution_count": 6,
   "id": "9b179149",
   "metadata": {},
   "outputs": [],
   "source": [
    "colors = [\n",
    "    'blue',\n",
    "    'orange',\n",
    "    'green',\n",
    "    'red',\n",
    "    'purple',\n",
    "    'brown',\n",
    "    'pink',\n",
    "    'gray',\n",
    "    'olive',\n",
    "    'cyan'\n",
    "]"
   ]
  },
  {
   "cell_type": "code",
   "execution_count": 7,
   "id": "3b9b5a83",
   "metadata": {},
   "outputs": [],
   "source": [
    "def pca(train_data,dimension = 2):\n",
    "    pca = PCA(n_components=dimension)\n",
    "    printcipalComponents = pca.fit_transform(train_data)\n",
    "    principalDf = pd.DataFrame(data=printcipalComponents, columns = ['x1', 'x2'])\n",
    "    return principalDf"
   ]
  },
  {
   "cell_type": "code",
   "execution_count": 8,
   "id": "77b936a5",
   "metadata": {},
   "outputs": [],
   "source": [
    "def get_features(train_data):\n",
    "    describe = train_data.describe(include='all')\n",
    "    mean = describe.loc['mean']\n",
    "    std = describe.loc['std'] #표준편차,\n",
    "    min = describe.loc['min'] \n",
    "    first_quartile= describe.loc['25%']\n",
    "    median = describe.loc['50%']\n",
    "    third_quartile = describe.loc['75%']\n",
    "    max = describe.loc['max'] \n",
    "    \n",
    "    return [[mean,std,min,first_quartile,median,third_quartile,max]]"
   ]
  },
  {
   "cell_type": "code",
   "execution_count": 9,
   "id": "1b942cfd",
   "metadata": {},
   "outputs": [],
   "source": [
    "def data_process(data_frame,batch_size=5110):\n",
    "    before = 0\n",
    "    train_data = pd.DataFrame([[]])\n",
    "    for i in tqdm(range(batch_size,len(data_frame),batch_size)):\n",
    "        features = pd.DataFrame(get_features(data_frame[before:i]),\n",
    "                                columns = ['mean','std','min','first_quartile','median','third_quartile','max'])\n",
    "        before = i\n",
    "        train_data = train_data.append(features,ignore_index=True)\n",
    "        \n",
    "    return train_data[1:]"
   ]
  },
  {
   "cell_type": "code",
   "execution_count": 10,
   "id": "649d1f72",
   "metadata": {},
   "outputs": [],
   "source": [
    "def collecting(arr):\n",
    "    collected_data = pd.DataFrame([[0,0]],columns = ['x1','x2'])\n",
    "    for filename in tqdm(arr):\n",
    "        data_set = pd.read_csv(filename, encoding = 'cp949',sep = '\\t')\n",
    "        data_set = data_process(data_set.iloc[:47960000,1])\n",
    "        data_set = pca(data_set)\n",
    "        collected_data = collected_data.append(data_set)\n",
    "    return collected_data"
   ]
  },
  {
   "cell_type": "code",
   "execution_count": 11,
   "id": "72ac879b",
   "metadata": {},
   "outputs": [],
   "source": [
    "def get_abnormal_data(dataset,batch_size=5110):\n",
    "    minv= dataset.iloc[:,1].min()\n",
    "    maxv = dataset.iloc[:,1].max()\n",
    "    rng = np.random.RandomState(42)\n",
    "    before = 0\n",
    "    train_data = pd.DataFrame([[0]],columns = ['x1'])\n",
    "    for i in tqdm(range(batch_size,len(dataset),batch_size)):  \n",
    "        fragment = rng.uniform(low=minv - 10, high=maxv + 10, size=batch_size)\n",
    "        fragment = pd.DataFrame(fragment,columns = ['x1'])\n",
    "        \n",
    "        before = i\n",
    "        train_data = train_data.append(fragment)\n",
    "        \n",
    "    return train_data"
   ]
  },
  {
   "cell_type": "code",
   "execution_count": 20,
   "id": "fb63c642",
   "metadata": {},
   "outputs": [],
   "source": [
    "def extends(arr,colors,value = 1.1):\n",
    "    index = 1\n",
    "    collected_data = pd.DataFrame([[0,0]],columns = ['x1','x2'])\n",
    "    for filename,color in zip(arr,colors):\n",
    "        print(index,\"번째 파일 읽는중.................\")\n",
    "        data_set = pd.read_csv(filename, encoding = 'cp949',sep = '\\t')\n",
    "        data_set = data_set.iloc[:47960000,1]*value\n",
    "        data_set = data_process(data_set)\n",
    "        data_set = pca(data_set)\n",
    "        min_max_scaler = preprocessing.MinMaxScaler()\n",
    "        data_set = min_max_scaler.fit_transform(data_set)\n",
    "        plt.scatter(data_set[:,0], data_set[:,1], color = color, label = filename[:5])\n",
    "        plt.savefig(str(index)+'pump_extends.png')\n",
    "        collected_data = collected_data.append(pd.DataFrame(data_set,columns = ['x1','x2']))\n",
    "        index += 1\n",
    "    plt.show()\n",
    "    return collected_data"
   ]
  },
  {
   "cell_type": "code",
   "execution_count": 21,
   "id": "7e22d445",
   "metadata": {
    "scrolled": true
   },
   "outputs": [
    {
     "name": "stdout",
     "output_type": "stream",
     "text": [
      "1 번째 파일 읽는중.................\n"
     ]
    },
    {
     "name": "stderr",
     "output_type": "stream",
     "text": [
      "100%|█████████████████████████████████████████████████████████████████████████████| 9385/9385 [00:18<00:00, 516.11it/s]\n"
     ]
    },
    {
     "name": "stdout",
     "output_type": "stream",
     "text": [
      "2 번째 파일 읽는중.................\n"
     ]
    },
    {
     "name": "stderr",
     "output_type": "stream",
     "text": [
      "100%|█████████████████████████████████████████████████████████████████████████████| 9385/9385 [00:18<00:00, 496.53it/s]\n"
     ]
    },
    {
     "name": "stdout",
     "output_type": "stream",
     "text": [
      "3 번째 파일 읽는중.................\n"
     ]
    },
    {
     "name": "stderr",
     "output_type": "stream",
     "text": [
      "100%|█████████████████████████████████████████████████████████████████████████████| 9385/9385 [00:18<00:00, 518.78it/s]\n"
     ]
    },
    {
     "name": "stdout",
     "output_type": "stream",
     "text": [
      "4 번째 파일 읽는중.................\n"
     ]
    },
    {
     "name": "stderr",
     "output_type": "stream",
     "text": [
      "100%|█████████████████████████████████████████████████████████████████████████████| 9385/9385 [00:18<00:00, 511.27it/s]\n"
     ]
    },
    {
     "name": "stdout",
     "output_type": "stream",
     "text": [
      "5 번째 파일 읽는중.................\n"
     ]
    },
    {
     "name": "stderr",
     "output_type": "stream",
     "text": [
      "100%|█████████████████████████████████████████████████████████████████████████████| 9385/9385 [00:18<00:00, 514.50it/s]\n"
     ]
    },
    {
     "name": "stdout",
     "output_type": "stream",
     "text": [
      "6 번째 파일 읽는중.................\n"
     ]
    },
    {
     "name": "stderr",
     "output_type": "stream",
     "text": [
      "100%|█████████████████████████████████████████████████████████████████████████████| 8785/8785 [00:17<00:00, 514.76it/s]\n"
     ]
    },
    {
     "name": "stdout",
     "output_type": "stream",
     "text": [
      "7 번째 파일 읽는중.................\n"
     ]
    },
    {
     "name": "stderr",
     "output_type": "stream",
     "text": [
      "100%|█████████████████████████████████████████████████████████████████████████████| 9385/9385 [00:18<00:00, 512.09it/s]\n"
     ]
    },
    {
     "name": "stdout",
     "output_type": "stream",
     "text": [
      "8 번째 파일 읽는중.................\n"
     ]
    },
    {
     "name": "stderr",
     "output_type": "stream",
     "text": [
      "100%|█████████████████████████████████████████████████████████████████████████████| 9385/9385 [00:18<00:00, 512.32it/s]\n"
     ]
    },
    {
     "name": "stdout",
     "output_type": "stream",
     "text": [
      "9 번째 파일 읽는중.................\n"
     ]
    },
    {
     "name": "stderr",
     "output_type": "stream",
     "text": [
      "100%|█████████████████████████████████████████████████████████████████████████████| 9385/9385 [00:18<00:00, 513.84it/s]\n"
     ]
    },
    {
     "name": "stdout",
     "output_type": "stream",
     "text": [
      "10 번째 파일 읽는중.................\n"
     ]
    },
    {
     "name": "stderr",
     "output_type": "stream",
     "text": [
      "100%|█████████████████████████████████████████████████████████████████████████████| 9385/9385 [00:18<00:00, 513.64it/s]\n"
     ]
    },
    {
     "data": {
      "image/png": "[encoded data removed]",
      "text/plain": [
       "<Figure size 432x288 with 1 Axes>"
      ]
     },
     "metadata": {
      "needs_background": "light"
     },
     "output_type": "display_data"
    }
   ],
   "source": [
    "collected_extedns_data = extends(pump_arr,colors,value = 2)"
   ]
  },
  {
   "cell_type": "code",
   "execution_count": 22,
   "id": "6b2a6a46",
   "metadata": {},
   "outputs": [],
   "source": [
    "collected_extedns_data.iloc[1:].to_csv('pump_extends_2.csv',encoding='cp949')"
   ]
  },
  {
   "cell_type": "code",
   "execution_count": 10,
   "id": "1b5563f5",
   "metadata": {},
   "outputs": [],
   "source": [
    "#collected_data.iloc[1:].to_csv('pump_collected.csv',encoding='cp949')"
   ]
  },
  {
   "cell_type": "code",
   "execution_count": 1,
   "id": "bcf885c4",
   "metadata": {
    "scrolled": true
   },
   "outputs": [],
   "source": [
    "# index = 4\n",
    "# for filename in pump_arr:\n",
    "#         print(index,'번째 파일 읽는중.............................')\n",
    "#         data_set = pd.read_csv(filename, encoding = 'cp949',sep = '\\t')\n",
    "#         print(index,'번째 고장 데이터 생성.............................')\n",
    "#         data_set = get_abnormal_data(data_set)\n",
    "#         data_set.to_csv(\"pump_abnormal\"+str(index) +'.csv',encoding='cp949',index=False)\n",
    "#         index += 1"
   ]
  },
  {
   "cell_type": "code",
   "execution_count": 21,
   "id": "777f7888",
   "metadata": {},
   "outputs": [
    {
     "data": {
      "text/plain": [
       "<matplotlib.collections.PathCollection at 0x22f0455ee50>"
      ]
     },
     "execution_count": 21,
     "metadata": {},
     "output_type": "execute_result"
    },
    {
     "data": {
      "image/png": "[encoded data removed]",
      "text/plain": [
       "<Figure size 432x288 with 1 Axes>"
      ]
     },
     "metadata": {
      "needs_background": "light"
     },
     "output_type": "display_data"
    }
   ],
   "source": [
    "plt.scatter(collected_extedns_data['x1'],collected_extedns_data['x2'],color = 'red')"
   ]
  },
  {
   "cell_type": "code",
   "execution_count": null,
   "id": "dc2a8bd3",
   "metadata": {},
   "outputs": [],
   "source": []
  }
 ],
 "metadata": {
  "kernelspec": {
   "display_name": "Python 3",
   "language": "python",
   "name": "python3"
  },
  "language_info": {
   "codemirror_mode": {
    "name": "ipython",
    "version": 3
   },
   "file_extension": ".py",
   "mimetype": "text/x-python",
   "name": "python",
   "nbconvert_exporter": "python",
   "pygments_lexer": "ipython3",
   "version": "3.8.8"
  }
 },
 "nbformat": 4,
 "nbformat_minor": 5
}
