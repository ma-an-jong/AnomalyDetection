{
 "cells": [
  {
   "cell_type": "code",
   "execution_count": 1,
   "id": "88f5c5bc",
   "metadata": {},
   "outputs": [],
   "source": [
    "import pandas as pd\n",
    "import matplotlib.pyplot as plt\n",
    "from sklearn import preprocessing\n",
    "import numpy as np\n",
    "%matplotlib inline\n",
    "from sklearn.ensemble import IsolationForest\n",
    "from sklearn.neighbors import LocalOutlierFactor\n",
    "from tqdm import tqdm\n",
    "from sklearn.model_selection import train_test_split\n",
    "import pickle\n",
    "import joblib\n",
    "from time import time\n",
    "plt.style.use('seaborn-notebook')"
   ]
  },
  {
   "cell_type": "code",
   "execution_count": 2,
   "id": "b40c88ec",
   "metadata": {},
   "outputs": [],
   "source": [
    "temperature_pump_arr = [\n",
    "    'data/03_08/temp_0308_pump_51200.csv',\n",
    "    'data/03_10/temp_0310_pump_51200.csv',\n",
    "    'data/03_11/temp_0311_pump_51200.csv',\n",
    "    'data/03_14/temp_0314_pump_51200.csv',\n",
    "    'data/03_16/temp_0316_pump_51200.csv',\n",
    "    'data/03_17/temp_0317_pump_51200.csv',\n",
    "    'data/03_21/temp_0321_pump_51200.csv',\n",
    "    'data/03_23/temp_0323_pump_51200.csv',\n",
    "    'data/03_24/temp_0324_pump_51200.csv',\n",
    "    'data/03_28/temp_0328_pump_51200.csv',\n",
    "    'data/03_04/temp_0304_pump_51200.csv',\n",
    "    'data/03_30/temp_0330_pump_51200.csv',\n",
    "    'data/03_31/temp_0331_pump_51200.csv'\n",
    "]"
   ]
  },
  {
   "cell_type": "code",
   "execution_count": 3,
   "id": "b4c4ff3b",
   "metadata": {},
   "outputs": [],
   "source": [
    "temperature_motor_arr = [\n",
    "    'data/03_08/temp_0308_motor_51200.csv',\n",
    "    'data/03_10/temp_0310_motor_51200.csv',\n",
    "    'data/03_11/temp_0311_motor_51200.csv',\n",
    "    'data/03_14/temp_0314_motor_51200.csv',\n",
    "    'data/03_16/temp_0316_motor_51200.csv',\n",
    "    'data/03_17/temp_0317_motor_51200.csv',\n",
    "    'data/03_21/temp_0321_motor_51200.csv',\n",
    "    'data/03_23/temp_0323_motor_51200.csv',\n",
    "    'data/03_24/temp_0324_motor_51200.csv',\n",
    "    'data/03_28/temp_0328_motor_51200.csv',\n",
    "    'data/03_04/temp_0304_motor_51200.csv',\n",
    "    'data/03_30/temp_0330_motor_51200.csv',\n",
    "    'data/03_31/temp_0331_motor_51200.csv'\n",
    "]"
   ]
  },
  {
   "cell_type": "code",
   "execution_count": 4,
   "id": "28392cba",
   "metadata": {
    "scrolled": true
   },
   "outputs": [
    {
     "name": "stderr",
     "output_type": "stream",
     "text": [
      "71076545it [1:07:52, 17451.99it/s]\n",
      "151468355it [2:23:51, 17547.81it/s]\n",
      "134888343it [2:07:41, 17605.94it/s]\n",
      "127898918it [2:00:11, 17735.40it/s]\n",
      "143056704it [2:15:54, 17543.75it/s]\n",
      "44925830it [42:18, 17699.59it/s]\n",
      "112157921it [1:43:33, 18050.96it/s]\n",
      "63613356it [58:30, 18118.93it/s]\n",
      "50221694it [46:27, 18018.82it/s]\n",
      "102637991it [1:34:57, 18013.41it/s]\n",
      "18860299it [17:26, 18016.35it/s]\n",
      "95878745it [1:28:54, 17973.23it/s]\n",
      "131804603it [2:04:01, 17712.75it/s]\n"
     ]
    }
   ],
   "source": [
    "for temp in temperature_pump_arr:\n",
    "    dataset = []\n",
    "    df = pd.read_csv(temp, sep = '\\t', names = ['str'], header = None, encoding = 'CP949')\n",
    "    for index,row in tqdm(df.iterrows()):\n",
    "        dataset.append([float(row['str'][:11])])\n",
    "    \n",
    "    dataset = pd.DataFrame(dataset,columns = ['data'])\n",
    "    dataset.to_csv(\"data/processing/pump/\" + temp[11:] ,encoding = 'cp949',index = False)"
   ]
  },
  {
   "cell_type": "code",
   "execution_count": 5,
   "id": "caf16bf7",
   "metadata": {},
   "outputs": [
    {
     "name": "stderr",
     "output_type": "stream",
     "text": [
      "71076545it [1:06:56, 17697.85it/s]\n",
      "151468356it [2:23:49, 17551.46it/s]\n",
      "134888343it [2:10:34, 17218.11it/s]\n",
      "127898918it [1:58:25, 17999.24it/s]\n",
      "143056704it [2:12:45, 17959.52it/s]\n",
      "44925830it [41:23, 18089.64it/s]\n",
      "112157921it [1:45:41, 17685.20it/s]\n",
      "63613356it [1:05:59, 16067.85it/s]\n",
      "50221694it [51:01, 16403.86it/s]\n",
      "102637991it [1:35:31, 17908.47it/s]\n",
      "18863682it [17:32, 17922.37it/s]\n",
      "95878745it [1:29:05, 17936.14it/s]\n",
      "131804603it [2:01:59, 18007.51it/s]\n"
     ]
    }
   ],
   "source": [
    "for temp in temperature_motor_arr:\n",
    "    dataset = []\n",
    "    df = pd.read_csv(temp, sep = '\\t', names = ['str'], header = None, encoding = 'CP949')\n",
    "    for index,row in tqdm(df.iterrows()):\n",
    "        dataset.append([float(row['str'][:11])])\n",
    "    \n",
    "    dataset = pd.DataFrame(dataset,columns = ['data'])\n",
    "    dataset.to_csv(\"data/processing/motor/\" + temp[11:] ,encoding = 'cp949',index = False)"
   ]
  },
  {
   "cell_type": "code",
   "execution_count": 4,
   "id": "2e244e37",
   "metadata": {},
   "outputs": [],
   "source": [
    "motor_arr= [\n",
    "    'data/processing/motor/temp_0308_motor_51200.csv',\n",
    "    'data/processing/motor/temp_0310_motor_51200.csv',\n",
    "    'data/processing/motor/temp_0311_motor_51200.csv',\n",
    "    'data/processing/motor/temp_0314_motor_51200.csv',\n",
    "    'data/processing/motor/temp_0316_motor_51200.csv',\n",
    "    'data/processing/motor/temp_0317_motor_51200.csv',\n",
    "    'data/processing/motor/temp_0321_motor_51200.csv',\n",
    "    'data/processing/motor/temp_0323_motor_51200.csv',\n",
    "    'data/processing/motor/temp_0324_motor_51200.csv',\n",
    "    'data/processing/motor/temp_0328_motor_51200.csv',\n",
    "    'data/processing/motor/temp_0304_motor_51200.csv',\n",
    "    'data/processing/motor/temp_0330_motor_51200.csv',\n",
    "    'data/processing/motor/temp_0331_motor_51200.csv'\n",
    "    \n",
    "]"
   ]
  },
  {
   "cell_type": "code",
   "execution_count": 2,
   "id": "747fcbaf",
   "metadata": {},
   "outputs": [],
   "source": [
    "pump_arr = [\n",
    "#     'data/processing/pump/temp_0308_pump_51200.csv',\n",
    "#     'data/processing/pump/temp_0310_pump_51200.csv',\n",
    "#     'data/processing/pump/temp_0311_pump_51200.csv',\n",
    "#     'data/processing/pump/temp_0314_pump_51200.csv',\n",
    "#     'data/processing/pump/temp_0316_pump_51200.csv',\n",
    "#     'data/processing/pump/temp_0317_pump_51200.csv',\n",
    "#     'data/processing/pump/temp_0321_pump_51200.csv',\n",
    "#     'data/processing/pump/temp_0323_pump_51200.csv',\n",
    "#     'data/processing/pump/temp_0324_pump_51200.csv',\n",
    "#     'data/processing/pump/temp_0328_pump_51200.csv',\n",
    "#     'data/processing/pump/temp_0304_pump_51200.csv',\n",
    "#     'data/processing/pump/temp_0330_pump_51200.csv',\n",
    "    'data/processing/pump/temp_0331_pump_51200.csv'\n",
    "]"
   ]
  },
  {
   "cell_type": "code",
   "execution_count": 3,
   "id": "f55bcaa8",
   "metadata": {
    "scrolled": false
   },
   "outputs": [
    {
     "name": "stderr",
     "output_type": "stream",
     "text": [
      "C:\\Users\\DeepLearning_3\\anaconda3\\lib\\site-packages\\IPython\\core\\interactiveshell.py:3165: DtypeWarning: Columns (0) have mixed types.Specify dtype option on import or set low_memory=False.\n",
      "  has_raised = await self.run_ast_nodes(code_ast.body, cell_name,\n"
     ]
    },
    {
     "data": {
      "image/png": "[encoded data removed]",
      "text/plain": [
       "<Figure size 576x396 with 1 Axes>"
      ]
     },
     "metadata": {
      "needs_background": "light"
     },
     "output_type": "display_data"
    }
   ],
   "source": [
    "for pump in pump_arr:\n",
    "    df =  pd.read_csv(pump, sep = '\\t', names = ['data'], header = None, encoding = 'CP949').iloc[1:].astype('float')\n",
    "    df.to_csv(pump,encoding = 'cp949',index = False)\n",
    "    plt.plot(df.index,df['data'],color='red',label = pump[26:30])\n",
    "    plt.savefig('temperature/pump/' + pump[21:-4] + \".png\")\n",
    "    plt.show()\n",
    "    plt.clf()\n",
    "    plt.close('all')"
   ]
  },
  {
   "cell_type": "code",
   "execution_count": null,
   "id": "e03729e3",
   "metadata": {},
   "outputs": [],
   "source": []
  }
 ],
 "metadata": {
  "kernelspec": {
   "display_name": "Python 3",
   "language": "python",
   "name": "python3"
  },
  "language_info": {
   "codemirror_mode": {
    "name": "ipython",
    "version": 3
   },
   "file_extension": ".py",
   "mimetype": "text/x-python",
   "name": "python",
   "nbconvert_exporter": "python",
   "pygments_lexer": "ipython3",
   "version": "3.8.8"
  }
 },
 "nbformat": 4,
 "nbformat_minor": 5
}
