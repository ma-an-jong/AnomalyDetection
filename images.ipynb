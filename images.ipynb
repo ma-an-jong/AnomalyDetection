{
 "cells": [
  {
   "cell_type": "code",
   "execution_count": 1,
   "id": "55b96a89",
   "metadata": {},
   "outputs": [],
   "source": [
    "import pandas as pd\n",
    "import matplotlib.pyplot as plt\n",
    "import seaborn as sns\n",
    "from sklearn import preprocessing\n",
    "import numpy as np\n",
    "sns.set_style(\"darkgrid\")\n",
    "%matplotlib inline\n",
    "from sklearn.ensemble import IsolationForest\n",
    "from tqdm import tqdm\n",
    "from sklearn.model_selection import train_test_split\n",
    "from sklearn.decomposition import PCA\n",
    "from sklearn.manifold import TSNE\n",
    "import pickle\n",
    "import joblib"
   ]
  },
  {
   "cell_type": "code",
   "execution_count": 2,
   "id": "db8e4910",
   "metadata": {},
   "outputs": [],
   "source": [
    "def data_process(data_frame,batch_size=5110):\n",
    "    before = 0\n",
    "    train_data = pd.DataFrame([[]])\n",
    "    for i in tqdm(range(batch_size,len(data_frame),batch_size)):\n",
    "        features = pd.DataFrame(get_features(data_frame[before:i]),\n",
    "                                columns = ['mean','std','min','first_quartile','median','third_quartile','max'])\n",
    "        before = i\n",
    "        train_data = train_data.append(features,ignore_index=True)\n",
    "        \n",
    "    return train_data[1:]"
   ]
  },
  {
   "cell_type": "code",
   "execution_count": 3,
   "id": "447562ea",
   "metadata": {},
   "outputs": [],
   "source": [
    "def get_features(train_data):\n",
    "    describe = train_data.describe(include='all')\n",
    "    mean = describe.loc['mean']\n",
    "    std = describe.loc['std'] #표준편차,\n",
    "    min = describe.loc['min'] \n",
    "    first_quartile= describe.loc['25%']\n",
    "    median = describe.loc['50%']\n",
    "    third_quartile = describe.loc['75%']\n",
    "    max = describe.loc['max'] \n",
    "    \n",
    "    return [[mean,std,min,first_quartile,median,third_quartile,max]]"
   ]
  },
  {
   "cell_type": "code",
   "execution_count": 4,
   "id": "f1426a65",
   "metadata": {},
   "outputs": [],
   "source": [
    "def pca(train_data,dimension = 2):\n",
    "    pca = PCA(n_components=dimension)\n",
    "    printcipalComponents = pca.fit_transform(train_data)\n",
    "    principalDf = pd.DataFrame(data=printcipalComponents, columns = ['x1', 'x2'])\n",
    "    return principalDf"
   ]
  },
  {
   "cell_type": "code",
   "execution_count": 5,
   "id": "027fbdcb",
   "metadata": {},
   "outputs": [],
   "source": [
    "def scaling(dataset,scaler = preprocessing.MaxAbsScaler()):\n",
    "    return scaler.fit_transform(dataset)"
   ]
  },
  {
   "cell_type": "code",
   "execution_count": 6,
   "id": "d5930d77",
   "metadata": {},
   "outputs": [],
   "source": [
    "def get_anomaly_scores(clf,data):\n",
    "    return clf.decision_function(data).reshape(-1,1)"
   ]
  },
  {
   "cell_type": "code",
   "execution_count": 8,
   "id": "4ccc719b",
   "metadata": {},
   "outputs": [],
   "source": [
    "pump_arr= [\n",
    "    '03_08/VIB_0308_pump_51200.csv',\n",
    "    '03_10/VIB_0310_pump_51200.csv',\n",
    "    '03_11/VIB_0311_pump_51200.csv',\n",
    "    '03_14/VIB_0314_pump_51200.csv',\n",
    "    '03_16/VIB_0316_pump_51200.csv',\n",
    "    '03_17/VIB_0317_pump_51200.csv',\n",
    "    '03_21/VIB_0321_pump_51200.csv',\n",
    "    '03_23/VIB_0323_pump_51200.csv',\n",
    "    '03_24/VIB_0324_pump_51200.csv',\n",
    "    '03_28/VIB_0328_pump_51200.csv'\n",
    "]"
   ]
  },
  {
   "cell_type": "code",
   "execution_count": 28,
   "id": "4b9a81a5",
   "metadata": {},
   "outputs": [],
   "source": [
    "motor_arr= [\n",
    "    '03_08/VIB_0308_motor_51200.csv',\n",
    "    '03_10/VIB_0310_motor_51200.csv',\n",
    "    '03_11/VIB_0311_motor_51200.csv',\n",
    "    '03_14/VIB_0314_motor_51200.csv',\n",
    "    '03_16/VIB_0316_motor_51200.csv',\n",
    "    '03_17/VIB_0317_motor_51200.csv',\n",
    "    '03_21/VIB_0321_motor_51200.csv',\n",
    "    '03_23/VIB_0323_motor_51200.csv',\n",
    "    '03_24/VIB_0324_motor_51200.csv',\n",
    "    '03_28/VIB_0328_motor_51200.csv'\n",
    "]"
   ]
  },
  {
   "cell_type": "code",
   "execution_count": 29,
   "id": "2438c1b7",
   "metadata": {},
   "outputs": [],
   "source": [
    "colors = [\n",
    "    'blue',\n",
    "    'orange',\n",
    "    'green',\n",
    "    'red',\n",
    "    'purple',\n",
    "    'brown',\n",
    "    'pink',\n",
    "    'gray',\n",
    "    'olive',\n",
    "    'cyan'\n",
    "]"
   ]
  },
  {
   "cell_type": "code",
   "execution_count": 31,
   "id": "d096d79e",
   "metadata": {},
   "outputs": [],
   "source": [
    "def display(arr,colors):\n",
    "    index = 1\n",
    "    for filename,color in zip(arr,colors):\n",
    "        print(index,\"번째 파일 읽는중.................\")\n",
    "        valid_set = pd.read_csv(filename, encoding = 'cp949',sep = '\\t')\n",
    "        valid = data_process(valid_set.iloc[:47960000,1])\n",
    "        valid = pca(valid)\n",
    "        min_max_scaler = preprocessing.MinMaxScaler()\n",
    "        scaled_valid = min_max_scaler.fit_transform(valid)\n",
    "        plt.scatter(scaled_valid[:,0], scaled_valid[:,1], color = color, label = filename)\n",
    "        plt.savefig(str(index)+'motor_pca_image.png')\n",
    "        index += 1\n",
    "    plt.show()"
   ]
  },
  {
   "cell_type": "code",
   "execution_count": 32,
   "id": "e3a6dc11",
   "metadata": {
    "scrolled": true
   },
   "outputs": [
    {
     "name": "stdout",
     "output_type": "stream",
     "text": [
      "1 번째 파일 읽는중.................\n"
     ]
    },
    {
     "name": "stderr",
     "output_type": "stream",
     "text": [
      "100%|█████████████████████████████████████████████████████████████████████████████| 9385/9385 [00:23<00:00, 395.42it/s]\n"
     ]
    },
    {
     "name": "stdout",
     "output_type": "stream",
     "text": [
      "2 번째 파일 읽는중.................\n"
     ]
    },
    {
     "name": "stderr",
     "output_type": "stream",
     "text": [
      "100%|█████████████████████████████████████████████████████████████████████████████| 9385/9385 [00:24<00:00, 385.53it/s]\n"
     ]
    },
    {
     "name": "stdout",
     "output_type": "stream",
     "text": [
      "3 번째 파일 읽는중.................\n"
     ]
    },
    {
     "name": "stderr",
     "output_type": "stream",
     "text": [
      "100%|█████████████████████████████████████████████████████████████████████████████| 9385/9385 [00:22<00:00, 410.15it/s]\n"
     ]
    },
    {
     "name": "stdout",
     "output_type": "stream",
     "text": [
      "4 번째 파일 읽는중.................\n"
     ]
    },
    {
     "name": "stderr",
     "output_type": "stream",
     "text": [
      "100%|█████████████████████████████████████████████████████████████████████████████| 9385/9385 [00:22<00:00, 412.10it/s]\n"
     ]
    },
    {
     "name": "stdout",
     "output_type": "stream",
     "text": [
      "5 번째 파일 읽는중.................\n"
     ]
    },
    {
     "name": "stderr",
     "output_type": "stream",
     "text": [
      "100%|█████████████████████████████████████████████████████████████████████████████| 9385/9385 [00:22<00:00, 412.04it/s]\n"
     ]
    },
    {
     "name": "stdout",
     "output_type": "stream",
     "text": [
      "6 번째 파일 읽는중.................\n"
     ]
    },
    {
     "name": "stderr",
     "output_type": "stream",
     "text": [
      "100%|█████████████████████████████████████████████████████████████████████████████| 8785/8785 [00:21<00:00, 410.87it/s]\n"
     ]
    },
    {
     "name": "stdout",
     "output_type": "stream",
     "text": [
      "7 번째 파일 읽는중.................\n"
     ]
    },
    {
     "name": "stderr",
     "output_type": "stream",
     "text": [
      "100%|█████████████████████████████████████████████████████████████████████████████| 9385/9385 [00:22<00:00, 413.91it/s]\n"
     ]
    },
    {
     "name": "stdout",
     "output_type": "stream",
     "text": [
      "8 번째 파일 읽는중.................\n"
     ]
    },
    {
     "name": "stderr",
     "output_type": "stream",
     "text": [
      "100%|█████████████████████████████████████████████████████████████████████████████| 9385/9385 [00:22<00:00, 417.00it/s]\n"
     ]
    },
    {
     "name": "stdout",
     "output_type": "stream",
     "text": [
      "9 번째 파일 읽는중.................\n"
     ]
    },
    {
     "name": "stderr",
     "output_type": "stream",
     "text": [
      "100%|█████████████████████████████████████████████████████████████████████████████| 9385/9385 [00:22<00:00, 417.21it/s]\n"
     ]
    },
    {
     "name": "stdout",
     "output_type": "stream",
     "text": [
      "10 번째 파일 읽는중.................\n"
     ]
    },
    {
     "name": "stderr",
     "output_type": "stream",
     "text": [
      "100%|█████████████████████████████████████████████████████████████████████████████| 9385/9385 [00:22<00:00, 413.04it/s]\n"
     ]
    },
    {
     "data": {
      "image/png": "[encoded data removed]",
      "text/plain": [
       "<Figure size 432x288 with 1 Axes>"
      ]
     },
     "metadata": {
      "needs_background": "light"
     },
     "output_type": "display_data"
    }
   ],
   "source": [
    "display(pump_arr,colors)"
   ]
  },
  {
   "cell_type": "code",
   "execution_count": null,
   "id": "4203df25",
   "metadata": {},
   "outputs": [],
   "source": []
  },
  {
   "cell_type": "code",
   "execution_count": null,
   "id": "bdfdb106",
   "metadata": {},
   "outputs": [],
   "source": []
  },
  {
   "cell_type": "code",
   "execution_count": null,
   "id": "4096d808",
   "metadata": {},
   "outputs": [],
   "source": []
  },
  {
   "cell_type": "code",
   "execution_count": null,
   "id": "8532ed22",
   "metadata": {},
   "outputs": [],
   "source": []
  },
  {
   "cell_type": "code",
   "execution_count": null,
   "id": "7dcb9ebd",
   "metadata": {},
   "outputs": [],
   "source": []
  }
 ],
 "metadata": {
  "kernelspec": {
   "display_name": "Python 3",
   "language": "python",
   "name": "python3"
  },
  "language_info": {
   "codemirror_mode": {
    "name": "ipython",
    "version": 3
   },
   "file_extension": ".py",
   "mimetype": "text/x-python",
   "name": "python",
   "nbconvert_exporter": "python",
   "pygments_lexer": "ipython3",
   "version": "3.8.8"
  }
 },
 "nbformat": 4,
 "nbformat_minor": 5
}
